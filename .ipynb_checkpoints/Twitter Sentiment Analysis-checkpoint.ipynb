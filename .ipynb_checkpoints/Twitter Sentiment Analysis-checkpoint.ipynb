{
 "cells": [
  {
   "cell_type": "code",
   "execution_count": 6,
   "metadata": {
    "collapsed": true
   },
   "outputs": [],
   "source": [
    "from textblob import TextBlob\n",
    "import tweepy"
   ]
  },
  {
   "cell_type": "code",
   "execution_count": 2,
   "metadata": {},
   "outputs": [
    {
     "data": {
      "text/plain": [
       "[('Tanay', 'NNP'),\n",
       " ('is', 'VBZ'),\n",
       " ('angry', 'JJ'),\n",
       " ('because', 'IN'),\n",
       " ('he', 'PRP'),\n",
       " ('had', 'VBD'),\n",
       " ('not', 'RB'),\n",
       " ('been', 'VBN'),\n",
       " ('to', 'TO'),\n",
       " ('any', 'DT'),\n",
       " ('club', 'NN'),\n",
       " ('recently', 'RB')]"
      ]
     },
     "execution_count": 2,
     "metadata": {},
     "output_type": "execute_result"
    }
   ],
   "source": [
    "#this is to demonstrate what textblob can do\n",
    "tanay=TextBlob(\"Tanay is angry because he had not been to any club recently\")\n",
    "tanay.tags\n"
   ]
  },
  {
   "cell_type": "code",
   "execution_count": 3,
   "metadata": {},
   "outputs": [
    {
     "data": {
      "text/plain": [
       "WordList(['Tanay', 'is', 'angry', 'because', 'he', 'had', 'not', 'been', 'to', 'any', 'club', 'recently'])"
      ]
     },
     "execution_count": 3,
     "metadata": {},
     "output_type": "execute_result"
    }
   ],
   "source": [
    "tanay.words"
   ]
  },
  {
   "cell_type": "code",
   "execution_count": 11,
   "metadata": {},
   "outputs": [
    {
     "data": {
      "text/plain": [
       "Sentiment(polarity=-0.25, subjectivity=0.625)"
      ]
     },
     "execution_count": 11,
     "metadata": {},
     "output_type": "execute_result"
    }
   ],
   "source": [
    "#this can give you sentiment on a scale of -1 to +1\n",
    "tanay.sentiment\n",
    "#polarity measures how positive or negative it is and subjectivity measures how much of an opinion it is or how factual"
   ]
  },
  {
   "cell_type": "code",
   "execution_count": 15,
   "metadata": {},
   "outputs": [
    {
     "name": "stdout",
     "output_type": "stream",
     "text": [
      "@iamsrk Love u srk\n",
      "Sentiment(polarity=0.5, subjectivity=0.6)\n",
      "@kiki21mlk いい…！\n",
      "Sentiment(polarity=0.0, subjectivity=0.0)\n",
      "RT @OYERJALOK: first day of Navratri, meet Rani #Padmavati- @deepikapadukone WhaaaaaaaT a Look of Goddess Queen 😍💫👏\n",
      "@shahidkapoor @RanveerO…\n",
      "Sentiment(polarity=0.25, subjectivity=0.3333333333333333)\n",
      "RT @ranveer3777: #सच_बोलूँ_तो ये @digvijaya_28 #चु**** इस हकले #SRK की #फिल्में देख देख के हुआ है और आज दोनो सबसे बड़े #चु*** #KRK को टक्कर…\n",
      "Sentiment(polarity=0.0, subjectivity=0.0)\n",
      "渋谷駅コンコースに掲載！\n",
      "SHOWROOM看板モデルオーディション！\n",
      "https://t.co/oD8q1M7vKU\n",
      "Sentiment(polarity=0.0, subjectivity=0.0)\n",
      "RT @ranveer3777: #सच_बोलूँ_तो ये @digvijaya_28 #चु**** इस हकले #SRK की #फिल्में देख देख के हुआ है और आज दोनो सबसे बड़े #चु*** #KRK को टक्कर…\n",
      "Sentiment(polarity=0.0, subjectivity=0.0)\n",
      "RT @indiaforums: This Morning just went from Good to BEST😍\n",
      "First Look of Rani #Padmavati❤️\n",
      "@deepikapadukone https://t.co/BFujAGNgS9\n",
      "Sentiment(polarity=0.475, subjectivity=0.4666666666666667)\n",
      "RT @aditiraohydari: #Padmavati @FilmPadmavati 🙏🏻❤️ https://t.co/hqP8nUw1oo\n",
      "Sentiment(polarity=0.0, subjectivity=0.0)\n",
      "RT @ForbesME: These Indian Actors Are Making More Than U.S. Stars https://t.co/ooqidBXTIN #Bollywood #SRK #Indians #entertainment #MOVIESTA…\n",
      "Sentiment(polarity=0.5, subjectivity=0.5)\n",
      "渋谷駅コンコースに掲載！\n",
      "SHOWROOM看板モデルオーディション！\n",
      "https://t.co/WMPiuZwpdu\n",
      "Sentiment(polarity=0.0, subjectivity=0.0)\n",
      "RT @anisonTV_BOT: 空の欠片\n",
      "【電脳コイル】池田綾子 https://t.co/cZrpzyl89p\n",
      "Sentiment(polarity=0.0, subjectivity=0.0)\n",
      "RT @SRKsTeeth: @iamsrk #SRK Reached Such Position Where Box-Office Collection Doesn't Fact To Him. https://t.co/S22BH7qXIz\n",
      "Sentiment(polarity=0.0, subjectivity=0.5)\n",
      "RT @RedChilliesEnt: Wishing the lady with the highest GQ (glam quotient), Kareena Kapoor Khan, a very happy birthday! https://t.co/s1Mu36gd…\n",
      "Sentiment(polarity=1.0, subjectivity=1.0)\n",
      "RT @K5_Rescue: 09.27น.ชนระเนระนาด 5-6 คัน บน ถ.เพชรเกษม ขาออกมุ่งหน้านครปฐม ช่วงทางลงสะพานต่างระดับเพชรเกษม กีดขวางช่องทางด่วน cr.มังกรแดง…\n",
      "Sentiment(polarity=0.0, subjectivity=0.0)\n",
      "RT @ImRids10: Dil toh sab ke pass hota hai par har koi dil wala nahi hota hai SRK jesa.\n",
      "@iamsrk love you❤❤❤❤💕\n",
      "#ShahRukhKhan ❤❤❤❤💕 https://t…\n",
      "Sentiment(polarity=0.5, subjectivity=0.6)\n"
     ]
    }
   ],
   "source": [
    "#creating authentication for twitter using \"create twitter application where you can get consumer token, secret, access token, secret and then proceed further.\n",
    "c_key='PbCFnXfvIl5D3NPgHj9eZg0o2'\n",
    "c_secret='qDWWcI8LQyVKs5UL68ALPxQ4sJxvHzET8uK0SLuJxTDxMajmyi'\n",
    "a_token='2586839442-7bUsCQ47rUKGAQb80EaMfZZLBBHiR7Ie5XJJ3vw'\n",
    "a_token_secret='wooPaABiVwBtrhhpT6SbD3Z2lJYBfFUdOOVNqSEu6vk6J'\n",
    "authentication=tweepy.OAuthHandler(c_key,c_secret)\n",
    "authentication.set_access_token(a_token,a_token_secret)\n",
    "\n",
    "#creating a variable that can be used to access twitter.\n",
    "\n",
    "tweet=tweepy.API(authentication)\n",
    "\n",
    "viral=tweet.search('SRK')\n",
    "for tweet in viral:\n",
    "    print(tweet.text)\n",
    "    analyze=TextBlob(tweet.text)\n",
    "    print(analyze.sentiment)\n"
   ]
  },
  {
   "cell_type": "code",
   "execution_count": 24,
   "metadata": {},
   "outputs": [
    {
     "name": "stdout",
     "output_type": "stream",
     "text": [
      "2017-09-21 05:42:04 RT @ImRids10: Dil toh sab ke pass hota hai par har koi dil wala nahi hota hai SRK jesa.\n",
      "@iamsrk love you❤❤❤❤💕\n",
      "#ShahRukhKhan ❤❤❤❤💕 https://t… Sentiment(polarity=0.5, subjectivity=0.6)\n"
     ]
    }
   ],
   "source": [
    "#saving into csv\n",
    "import csv\n",
    "csvfile=open('results.csv','a')\n",
    "csvWriter=csv.writer(csvfile)\n",
    "csvWriter.writerow([tweet.created_at,tweet.text.encode('utf-8')])\n",
    "print(tweet.created_at,tweet.text,analyze.sentiment)\n"
   ]
  },
  {
   "cell_type": "code",
   "execution_count": 19,
   "metadata": {
    "collapsed": true
   },
   "outputs": [],
   "source": []
  },
  {
   "cell_type": "code",
   "execution_count": null,
   "metadata": {
    "collapsed": true
   },
   "outputs": [],
   "source": []
  }
 ],
 "metadata": {
  "kernelspec": {
   "display_name": "Python 3",
   "language": "python",
   "name": "python3"
  },
  "language_info": {
   "codemirror_mode": {
    "name": "ipython",
    "version": 3
   },
   "file_extension": ".py",
   "mimetype": "text/x-python",
   "name": "python",
   "nbconvert_exporter": "python",
   "pygments_lexer": "ipython3",
   "version": "3.6.1"
  }
 },
 "nbformat": 4,
 "nbformat_minor": 2
}
