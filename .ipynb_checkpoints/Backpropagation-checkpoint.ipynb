{
 "cells": [
  {
   "cell_type": "code",
   "execution_count": 179,
   "metadata": {
    "collapsed": true
   },
   "outputs": [],
   "source": [
    "import numpy as np\n",
    "import pandas as pd"
   ]
  },
  {
   "cell_type": "code",
   "execution_count": 180,
   "metadata": {
    "collapsed": true
   },
   "outputs": [],
   "source": [
    "X=np.random.randn(50,2)"
   ]
  },
  {
   "cell_type": "code",
   "execution_count": 181,
   "metadata": {
    "collapsed": true
   },
   "outputs": [],
   "source": [
    "data=pd.DataFrame(X)"
   ]
  },
  {
   "cell_type": "code",
   "execution_count": 182,
   "metadata": {},
   "outputs": [
    {
     "data": {
      "text/html": [
       "<div>\n",
       "<style>\n",
       "    .dataframe thead tr:only-child th {\n",
       "        text-align: right;\n",
       "    }\n",
       "\n",
       "    .dataframe thead th {\n",
       "        text-align: left;\n",
       "    }\n",
       "\n",
       "    .dataframe tbody tr th {\n",
       "        vertical-align: top;\n",
       "    }\n",
       "</style>\n",
       "<table border=\"1\" class=\"dataframe\">\n",
       "  <thead>\n",
       "    <tr style=\"text-align: right;\">\n",
       "      <th></th>\n",
       "      <th>0</th>\n",
       "      <th>1</th>\n",
       "    </tr>\n",
       "  </thead>\n",
       "  <tbody>\n",
       "    <tr>\n",
       "      <th>0</th>\n",
       "      <td>-1.118455</td>\n",
       "      <td>-1.063162</td>\n",
       "    </tr>\n",
       "    <tr>\n",
       "      <th>1</th>\n",
       "      <td>1.440235</td>\n",
       "      <td>-0.657534</td>\n",
       "    </tr>\n",
       "    <tr>\n",
       "      <th>2</th>\n",
       "      <td>-0.452512</td>\n",
       "      <td>-0.306846</td>\n",
       "    </tr>\n",
       "    <tr>\n",
       "      <th>3</th>\n",
       "      <td>0.112675</td>\n",
       "      <td>-0.660726</td>\n",
       "    </tr>\n",
       "    <tr>\n",
       "      <th>4</th>\n",
       "      <td>0.548153</td>\n",
       "      <td>-0.423813</td>\n",
       "    </tr>\n",
       "    <tr>\n",
       "      <th>5</th>\n",
       "      <td>1.385396</td>\n",
       "      <td>-0.354521</td>\n",
       "    </tr>\n",
       "    <tr>\n",
       "      <th>6</th>\n",
       "      <td>0.403757</td>\n",
       "      <td>2.824226</td>\n",
       "    </tr>\n",
       "    <tr>\n",
       "      <th>7</th>\n",
       "      <td>1.753414</td>\n",
       "      <td>-0.511244</td>\n",
       "    </tr>\n",
       "    <tr>\n",
       "      <th>8</th>\n",
       "      <td>-0.371868</td>\n",
       "      <td>0.066872</td>\n",
       "    </tr>\n",
       "    <tr>\n",
       "      <th>9</th>\n",
       "      <td>1.083348</td>\n",
       "      <td>-0.447099</td>\n",
       "    </tr>\n",
       "    <tr>\n",
       "      <th>10</th>\n",
       "      <td>-0.777820</td>\n",
       "      <td>-0.667766</td>\n",
       "    </tr>\n",
       "    <tr>\n",
       "      <th>11</th>\n",
       "      <td>-1.924687</td>\n",
       "      <td>-0.165064</td>\n",
       "    </tr>\n",
       "    <tr>\n",
       "      <th>12</th>\n",
       "      <td>0.205918</td>\n",
       "      <td>-1.359953</td>\n",
       "    </tr>\n",
       "    <tr>\n",
       "      <th>13</th>\n",
       "      <td>-0.045117</td>\n",
       "      <td>-1.415532</td>\n",
       "    </tr>\n",
       "    <tr>\n",
       "      <th>14</th>\n",
       "      <td>-0.887253</td>\n",
       "      <td>0.005488</td>\n",
       "    </tr>\n",
       "    <tr>\n",
       "      <th>15</th>\n",
       "      <td>-0.269873</td>\n",
       "      <td>0.302344</td>\n",
       "    </tr>\n",
       "    <tr>\n",
       "      <th>16</th>\n",
       "      <td>0.623968</td>\n",
       "      <td>-0.346505</td>\n",
       "    </tr>\n",
       "    <tr>\n",
       "      <th>17</th>\n",
       "      <td>1.188904</td>\n",
       "      <td>-2.199472</td>\n",
       "    </tr>\n",
       "    <tr>\n",
       "      <th>18</th>\n",
       "      <td>-0.457278</td>\n",
       "      <td>0.742547</td>\n",
       "    </tr>\n",
       "    <tr>\n",
       "      <th>19</th>\n",
       "      <td>-1.122918</td>\n",
       "      <td>-0.196638</td>\n",
       "    </tr>\n",
       "    <tr>\n",
       "      <th>20</th>\n",
       "      <td>-0.950354</td>\n",
       "      <td>-1.929225</td>\n",
       "    </tr>\n",
       "    <tr>\n",
       "      <th>21</th>\n",
       "      <td>-0.711845</td>\n",
       "      <td>-0.915389</td>\n",
       "    </tr>\n",
       "    <tr>\n",
       "      <th>22</th>\n",
       "      <td>0.309649</td>\n",
       "      <td>-0.666932</td>\n",
       "    </tr>\n",
       "    <tr>\n",
       "      <th>23</th>\n",
       "      <td>1.909784</td>\n",
       "      <td>-0.598893</td>\n",
       "    </tr>\n",
       "    <tr>\n",
       "      <th>24</th>\n",
       "      <td>-0.795923</td>\n",
       "      <td>-1.072993</td>\n",
       "    </tr>\n",
       "    <tr>\n",
       "      <th>25</th>\n",
       "      <td>0.217501</td>\n",
       "      <td>0.589448</td>\n",
       "    </tr>\n",
       "    <tr>\n",
       "      <th>26</th>\n",
       "      <td>0.363676</td>\n",
       "      <td>-0.607862</td>\n",
       "    </tr>\n",
       "    <tr>\n",
       "      <th>27</th>\n",
       "      <td>-1.319208</td>\n",
       "      <td>0.305706</td>\n",
       "    </tr>\n",
       "    <tr>\n",
       "      <th>28</th>\n",
       "      <td>0.514982</td>\n",
       "      <td>0.466288</td>\n",
       "    </tr>\n",
       "    <tr>\n",
       "      <th>29</th>\n",
       "      <td>1.649857</td>\n",
       "      <td>0.125685</td>\n",
       "    </tr>\n",
       "    <tr>\n",
       "      <th>30</th>\n",
       "      <td>0.509527</td>\n",
       "      <td>1.200478</td>\n",
       "    </tr>\n",
       "    <tr>\n",
       "      <th>31</th>\n",
       "      <td>1.038332</td>\n",
       "      <td>-1.717744</td>\n",
       "    </tr>\n",
       "    <tr>\n",
       "      <th>32</th>\n",
       "      <td>0.635494</td>\n",
       "      <td>-1.561573</td>\n",
       "    </tr>\n",
       "    <tr>\n",
       "      <th>33</th>\n",
       "      <td>0.182106</td>\n",
       "      <td>0.013960</td>\n",
       "    </tr>\n",
       "    <tr>\n",
       "      <th>34</th>\n",
       "      <td>-1.753248</td>\n",
       "      <td>1.149623</td>\n",
       "    </tr>\n",
       "    <tr>\n",
       "      <th>35</th>\n",
       "      <td>0.066058</td>\n",
       "      <td>-0.659778</td>\n",
       "    </tr>\n",
       "    <tr>\n",
       "      <th>36</th>\n",
       "      <td>0.986462</td>\n",
       "      <td>0.071798</td>\n",
       "    </tr>\n",
       "    <tr>\n",
       "      <th>37</th>\n",
       "      <td>-0.582001</td>\n",
       "      <td>1.241849</td>\n",
       "    </tr>\n",
       "    <tr>\n",
       "      <th>38</th>\n",
       "      <td>0.009448</td>\n",
       "      <td>-1.974519</td>\n",
       "    </tr>\n",
       "    <tr>\n",
       "      <th>39</th>\n",
       "      <td>-0.255756</td>\n",
       "      <td>-0.303037</td>\n",
       "    </tr>\n",
       "    <tr>\n",
       "      <th>40</th>\n",
       "      <td>-0.279635</td>\n",
       "      <td>0.389864</td>\n",
       "    </tr>\n",
       "    <tr>\n",
       "      <th>41</th>\n",
       "      <td>-0.726108</td>\n",
       "      <td>-0.769468</td>\n",
       "    </tr>\n",
       "    <tr>\n",
       "      <th>42</th>\n",
       "      <td>-1.687443</td>\n",
       "      <td>0.638007</td>\n",
       "    </tr>\n",
       "    <tr>\n",
       "      <th>43</th>\n",
       "      <td>0.802322</td>\n",
       "      <td>1.321062</td>\n",
       "    </tr>\n",
       "    <tr>\n",
       "      <th>44</th>\n",
       "      <td>-0.278177</td>\n",
       "      <td>0.252382</td>\n",
       "    </tr>\n",
       "    <tr>\n",
       "      <th>45</th>\n",
       "      <td>-0.052349</td>\n",
       "      <td>-1.304772</td>\n",
       "    </tr>\n",
       "    <tr>\n",
       "      <th>46</th>\n",
       "      <td>0.509347</td>\n",
       "      <td>-1.067042</td>\n",
       "    </tr>\n",
       "    <tr>\n",
       "      <th>47</th>\n",
       "      <td>0.993340</td>\n",
       "      <td>-0.699928</td>\n",
       "    </tr>\n",
       "    <tr>\n",
       "      <th>48</th>\n",
       "      <td>-0.049321</td>\n",
       "      <td>-0.216082</td>\n",
       "    </tr>\n",
       "    <tr>\n",
       "      <th>49</th>\n",
       "      <td>0.866564</td>\n",
       "      <td>1.534949</td>\n",
       "    </tr>\n",
       "  </tbody>\n",
       "</table>\n",
       "</div>"
      ],
      "text/plain": [
       "           0         1\n",
       "0  -1.118455 -1.063162\n",
       "1   1.440235 -0.657534\n",
       "2  -0.452512 -0.306846\n",
       "3   0.112675 -0.660726\n",
       "4   0.548153 -0.423813\n",
       "5   1.385396 -0.354521\n",
       "6   0.403757  2.824226\n",
       "7   1.753414 -0.511244\n",
       "8  -0.371868  0.066872\n",
       "9   1.083348 -0.447099\n",
       "10 -0.777820 -0.667766\n",
       "11 -1.924687 -0.165064\n",
       "12  0.205918 -1.359953\n",
       "13 -0.045117 -1.415532\n",
       "14 -0.887253  0.005488\n",
       "15 -0.269873  0.302344\n",
       "16  0.623968 -0.346505\n",
       "17  1.188904 -2.199472\n",
       "18 -0.457278  0.742547\n",
       "19 -1.122918 -0.196638\n",
       "20 -0.950354 -1.929225\n",
       "21 -0.711845 -0.915389\n",
       "22  0.309649 -0.666932\n",
       "23  1.909784 -0.598893\n",
       "24 -0.795923 -1.072993\n",
       "25  0.217501  0.589448\n",
       "26  0.363676 -0.607862\n",
       "27 -1.319208  0.305706\n",
       "28  0.514982  0.466288\n",
       "29  1.649857  0.125685\n",
       "30  0.509527  1.200478\n",
       "31  1.038332 -1.717744\n",
       "32  0.635494 -1.561573\n",
       "33  0.182106  0.013960\n",
       "34 -1.753248  1.149623\n",
       "35  0.066058 -0.659778\n",
       "36  0.986462  0.071798\n",
       "37 -0.582001  1.241849\n",
       "38  0.009448 -1.974519\n",
       "39 -0.255756 -0.303037\n",
       "40 -0.279635  0.389864\n",
       "41 -0.726108 -0.769468\n",
       "42 -1.687443  0.638007\n",
       "43  0.802322  1.321062\n",
       "44 -0.278177  0.252382\n",
       "45 -0.052349 -1.304772\n",
       "46  0.509347 -1.067042\n",
       "47  0.993340 -0.699928\n",
       "48 -0.049321 -0.216082\n",
       "49  0.866564  1.534949"
      ]
     },
     "execution_count": 182,
     "metadata": {},
     "output_type": "execute_result"
    }
   ],
   "source": [
    "data"
   ]
  },
  {
   "cell_type": "code",
   "execution_count": 185,
   "metadata": {},
   "outputs": [],
   "source": [
    "data.columns=['X1','X2']"
   ]
  },
  {
   "cell_type": "code",
   "execution_count": 186,
   "metadata": {},
   "outputs": [
    {
     "data": {
      "text/html": [
       "<div>\n",
       "<style>\n",
       "    .dataframe thead tr:only-child th {\n",
       "        text-align: right;\n",
       "    }\n",
       "\n",
       "    .dataframe thead th {\n",
       "        text-align: left;\n",
       "    }\n",
       "\n",
       "    .dataframe tbody tr th {\n",
       "        vertical-align: top;\n",
       "    }\n",
       "</style>\n",
       "<table border=\"1\" class=\"dataframe\">\n",
       "  <thead>\n",
       "    <tr style=\"text-align: right;\">\n",
       "      <th></th>\n",
       "      <th>X1</th>\n",
       "      <th>X2</th>\n",
       "    </tr>\n",
       "  </thead>\n",
       "  <tbody>\n",
       "    <tr>\n",
       "      <th>0</th>\n",
       "      <td>-1.118455</td>\n",
       "      <td>-1.063162</td>\n",
       "    </tr>\n",
       "    <tr>\n",
       "      <th>1</th>\n",
       "      <td>1.440235</td>\n",
       "      <td>-0.657534</td>\n",
       "    </tr>\n",
       "    <tr>\n",
       "      <th>2</th>\n",
       "      <td>-0.452512</td>\n",
       "      <td>-0.306846</td>\n",
       "    </tr>\n",
       "    <tr>\n",
       "      <th>3</th>\n",
       "      <td>0.112675</td>\n",
       "      <td>-0.660726</td>\n",
       "    </tr>\n",
       "    <tr>\n",
       "      <th>4</th>\n",
       "      <td>0.548153</td>\n",
       "      <td>-0.423813</td>\n",
       "    </tr>\n",
       "    <tr>\n",
       "      <th>5</th>\n",
       "      <td>1.385396</td>\n",
       "      <td>-0.354521</td>\n",
       "    </tr>\n",
       "    <tr>\n",
       "      <th>6</th>\n",
       "      <td>0.403757</td>\n",
       "      <td>2.824226</td>\n",
       "    </tr>\n",
       "    <tr>\n",
       "      <th>7</th>\n",
       "      <td>1.753414</td>\n",
       "      <td>-0.511244</td>\n",
       "    </tr>\n",
       "    <tr>\n",
       "      <th>8</th>\n",
       "      <td>-0.371868</td>\n",
       "      <td>0.066872</td>\n",
       "    </tr>\n",
       "    <tr>\n",
       "      <th>9</th>\n",
       "      <td>1.083348</td>\n",
       "      <td>-0.447099</td>\n",
       "    </tr>\n",
       "    <tr>\n",
       "      <th>10</th>\n",
       "      <td>-0.777820</td>\n",
       "      <td>-0.667766</td>\n",
       "    </tr>\n",
       "    <tr>\n",
       "      <th>11</th>\n",
       "      <td>-1.924687</td>\n",
       "      <td>-0.165064</td>\n",
       "    </tr>\n",
       "    <tr>\n",
       "      <th>12</th>\n",
       "      <td>0.205918</td>\n",
       "      <td>-1.359953</td>\n",
       "    </tr>\n",
       "    <tr>\n",
       "      <th>13</th>\n",
       "      <td>-0.045117</td>\n",
       "      <td>-1.415532</td>\n",
       "    </tr>\n",
       "    <tr>\n",
       "      <th>14</th>\n",
       "      <td>-0.887253</td>\n",
       "      <td>0.005488</td>\n",
       "    </tr>\n",
       "    <tr>\n",
       "      <th>15</th>\n",
       "      <td>-0.269873</td>\n",
       "      <td>0.302344</td>\n",
       "    </tr>\n",
       "    <tr>\n",
       "      <th>16</th>\n",
       "      <td>0.623968</td>\n",
       "      <td>-0.346505</td>\n",
       "    </tr>\n",
       "    <tr>\n",
       "      <th>17</th>\n",
       "      <td>1.188904</td>\n",
       "      <td>-2.199472</td>\n",
       "    </tr>\n",
       "    <tr>\n",
       "      <th>18</th>\n",
       "      <td>-0.457278</td>\n",
       "      <td>0.742547</td>\n",
       "    </tr>\n",
       "    <tr>\n",
       "      <th>19</th>\n",
       "      <td>-1.122918</td>\n",
       "      <td>-0.196638</td>\n",
       "    </tr>\n",
       "    <tr>\n",
       "      <th>20</th>\n",
       "      <td>-0.950354</td>\n",
       "      <td>-1.929225</td>\n",
       "    </tr>\n",
       "    <tr>\n",
       "      <th>21</th>\n",
       "      <td>-0.711845</td>\n",
       "      <td>-0.915389</td>\n",
       "    </tr>\n",
       "    <tr>\n",
       "      <th>22</th>\n",
       "      <td>0.309649</td>\n",
       "      <td>-0.666932</td>\n",
       "    </tr>\n",
       "    <tr>\n",
       "      <th>23</th>\n",
       "      <td>1.909784</td>\n",
       "      <td>-0.598893</td>\n",
       "    </tr>\n",
       "    <tr>\n",
       "      <th>24</th>\n",
       "      <td>-0.795923</td>\n",
       "      <td>-1.072993</td>\n",
       "    </tr>\n",
       "    <tr>\n",
       "      <th>25</th>\n",
       "      <td>0.217501</td>\n",
       "      <td>0.589448</td>\n",
       "    </tr>\n",
       "    <tr>\n",
       "      <th>26</th>\n",
       "      <td>0.363676</td>\n",
       "      <td>-0.607862</td>\n",
       "    </tr>\n",
       "    <tr>\n",
       "      <th>27</th>\n",
       "      <td>-1.319208</td>\n",
       "      <td>0.305706</td>\n",
       "    </tr>\n",
       "    <tr>\n",
       "      <th>28</th>\n",
       "      <td>0.514982</td>\n",
       "      <td>0.466288</td>\n",
       "    </tr>\n",
       "    <tr>\n",
       "      <th>29</th>\n",
       "      <td>1.649857</td>\n",
       "      <td>0.125685</td>\n",
       "    </tr>\n",
       "    <tr>\n",
       "      <th>30</th>\n",
       "      <td>0.509527</td>\n",
       "      <td>1.200478</td>\n",
       "    </tr>\n",
       "    <tr>\n",
       "      <th>31</th>\n",
       "      <td>1.038332</td>\n",
       "      <td>-1.717744</td>\n",
       "    </tr>\n",
       "    <tr>\n",
       "      <th>32</th>\n",
       "      <td>0.635494</td>\n",
       "      <td>-1.561573</td>\n",
       "    </tr>\n",
       "    <tr>\n",
       "      <th>33</th>\n",
       "      <td>0.182106</td>\n",
       "      <td>0.013960</td>\n",
       "    </tr>\n",
       "    <tr>\n",
       "      <th>34</th>\n",
       "      <td>-1.753248</td>\n",
       "      <td>1.149623</td>\n",
       "    </tr>\n",
       "    <tr>\n",
       "      <th>35</th>\n",
       "      <td>0.066058</td>\n",
       "      <td>-0.659778</td>\n",
       "    </tr>\n",
       "    <tr>\n",
       "      <th>36</th>\n",
       "      <td>0.986462</td>\n",
       "      <td>0.071798</td>\n",
       "    </tr>\n",
       "    <tr>\n",
       "      <th>37</th>\n",
       "      <td>-0.582001</td>\n",
       "      <td>1.241849</td>\n",
       "    </tr>\n",
       "    <tr>\n",
       "      <th>38</th>\n",
       "      <td>0.009448</td>\n",
       "      <td>-1.974519</td>\n",
       "    </tr>\n",
       "    <tr>\n",
       "      <th>39</th>\n",
       "      <td>-0.255756</td>\n",
       "      <td>-0.303037</td>\n",
       "    </tr>\n",
       "    <tr>\n",
       "      <th>40</th>\n",
       "      <td>-0.279635</td>\n",
       "      <td>0.389864</td>\n",
       "    </tr>\n",
       "    <tr>\n",
       "      <th>41</th>\n",
       "      <td>-0.726108</td>\n",
       "      <td>-0.769468</td>\n",
       "    </tr>\n",
       "    <tr>\n",
       "      <th>42</th>\n",
       "      <td>-1.687443</td>\n",
       "      <td>0.638007</td>\n",
       "    </tr>\n",
       "    <tr>\n",
       "      <th>43</th>\n",
       "      <td>0.802322</td>\n",
       "      <td>1.321062</td>\n",
       "    </tr>\n",
       "    <tr>\n",
       "      <th>44</th>\n",
       "      <td>-0.278177</td>\n",
       "      <td>0.252382</td>\n",
       "    </tr>\n",
       "    <tr>\n",
       "      <th>45</th>\n",
       "      <td>-0.052349</td>\n",
       "      <td>-1.304772</td>\n",
       "    </tr>\n",
       "    <tr>\n",
       "      <th>46</th>\n",
       "      <td>0.509347</td>\n",
       "      <td>-1.067042</td>\n",
       "    </tr>\n",
       "    <tr>\n",
       "      <th>47</th>\n",
       "      <td>0.993340</td>\n",
       "      <td>-0.699928</td>\n",
       "    </tr>\n",
       "    <tr>\n",
       "      <th>48</th>\n",
       "      <td>-0.049321</td>\n",
       "      <td>-0.216082</td>\n",
       "    </tr>\n",
       "    <tr>\n",
       "      <th>49</th>\n",
       "      <td>0.866564</td>\n",
       "      <td>1.534949</td>\n",
       "    </tr>\n",
       "  </tbody>\n",
       "</table>\n",
       "</div>"
      ],
      "text/plain": [
       "          X1        X2\n",
       "0  -1.118455 -1.063162\n",
       "1   1.440235 -0.657534\n",
       "2  -0.452512 -0.306846\n",
       "3   0.112675 -0.660726\n",
       "4   0.548153 -0.423813\n",
       "5   1.385396 -0.354521\n",
       "6   0.403757  2.824226\n",
       "7   1.753414 -0.511244\n",
       "8  -0.371868  0.066872\n",
       "9   1.083348 -0.447099\n",
       "10 -0.777820 -0.667766\n",
       "11 -1.924687 -0.165064\n",
       "12  0.205918 -1.359953\n",
       "13 -0.045117 -1.415532\n",
       "14 -0.887253  0.005488\n",
       "15 -0.269873  0.302344\n",
       "16  0.623968 -0.346505\n",
       "17  1.188904 -2.199472\n",
       "18 -0.457278  0.742547\n",
       "19 -1.122918 -0.196638\n",
       "20 -0.950354 -1.929225\n",
       "21 -0.711845 -0.915389\n",
       "22  0.309649 -0.666932\n",
       "23  1.909784 -0.598893\n",
       "24 -0.795923 -1.072993\n",
       "25  0.217501  0.589448\n",
       "26  0.363676 -0.607862\n",
       "27 -1.319208  0.305706\n",
       "28  0.514982  0.466288\n",
       "29  1.649857  0.125685\n",
       "30  0.509527  1.200478\n",
       "31  1.038332 -1.717744\n",
       "32  0.635494 -1.561573\n",
       "33  0.182106  0.013960\n",
       "34 -1.753248  1.149623\n",
       "35  0.066058 -0.659778\n",
       "36  0.986462  0.071798\n",
       "37 -0.582001  1.241849\n",
       "38  0.009448 -1.974519\n",
       "39 -0.255756 -0.303037\n",
       "40 -0.279635  0.389864\n",
       "41 -0.726108 -0.769468\n",
       "42 -1.687443  0.638007\n",
       "43  0.802322  1.321062\n",
       "44 -0.278177  0.252382\n",
       "45 -0.052349 -1.304772\n",
       "46  0.509347 -1.067042\n",
       "47  0.993340 -0.699928\n",
       "48 -0.049321 -0.216082\n",
       "49  0.866564  1.534949"
      ]
     },
     "execution_count": 186,
     "metadata": {},
     "output_type": "execute_result"
    }
   ],
   "source": [
    "data"
   ]
  },
  {
   "cell_type": "code",
   "execution_count": 12,
   "metadata": {
    "collapsed": true
   },
   "outputs": [],
   "source": []
  },
  {
   "cell_type": "code",
   "execution_count": 14,
   "metadata": {},
   "outputs": [
    {
     "data": {
      "text/plain": [
       "array([[-1.70494056]])"
      ]
     },
     "execution_count": 14,
     "metadata": {},
     "output_type": "execute_result"
    }
   ],
   "source": [
    "Bias"
   ]
  },
  {
   "cell_type": "code",
   "execution_count": 90,
   "metadata": {
    "collapsed": true
   },
   "outputs": [],
   "source": [
    "w1=0.4\n",
    "w2=0.5\n",
    "w3=0.2\n",
    "w4=0.35\n",
    "w5=0.45\n",
    "w6=0.25"
   ]
  },
  {
   "cell_type": "code",
   "execution_count": 192,
   "metadata": {},
   "outputs": [],
   "source": [
    "Output1 = w1*data.X1+w3*data.X2"
   ]
  },
  {
   "cell_type": "code",
   "execution_count": 193,
   "metadata": {},
   "outputs": [
    {
     "data": {
      "text/plain": [
       "0    -0.660014\n",
       "1     0.444587\n",
       "2    -0.242374\n",
       "3    -0.087075\n",
       "4     0.134499\n",
       "5     0.483254\n",
       "6     0.726348\n",
       "7     0.599117\n",
       "8    -0.135373\n",
       "9     0.343919\n",
       "10   -0.444681\n",
       "11   -0.802887\n",
       "12   -0.189623\n",
       "13   -0.301153\n",
       "14   -0.353804\n",
       "15   -0.047480\n",
       "16    0.180286\n",
       "17    0.035667\n",
       "18   -0.034402\n",
       "19   -0.488495\n",
       "20   -0.765986\n",
       "21   -0.467816\n",
       "22   -0.009527\n",
       "23    0.644135\n",
       "24   -0.532968\n",
       "25    0.204890\n",
       "26    0.023898\n",
       "27   -0.466542\n",
       "28    0.299250\n",
       "29    0.685080\n",
       "30    0.443906\n",
       "31    0.071784\n",
       "32   -0.058117\n",
       "33    0.075634\n",
       "34   -0.471375\n",
       "35   -0.105532\n",
       "36    0.408944\n",
       "37    0.015569\n",
       "38   -0.391125\n",
       "39   -0.162910\n",
       "40   -0.033881\n",
       "41   -0.444337\n",
       "42   -0.547376\n",
       "43    0.585141\n",
       "44   -0.060794\n",
       "45   -0.281894\n",
       "46   -0.009669\n",
       "47    0.257350\n",
       "48   -0.062945\n",
       "49    0.653615\n",
       "dtype: float64"
      ]
     },
     "execution_count": 193,
     "metadata": {},
     "output_type": "execute_result"
    }
   ],
   "source": [
    "Output1"
   ]
  },
  {
   "cell_type": "code",
   "execution_count": 194,
   "metadata": {},
   "outputs": [],
   "source": [
    "Output1 = sum(Output1)"
   ]
  },
  {
   "cell_type": "code",
   "execution_count": 195,
   "metadata": {
    "scrolled": true
   },
   "outputs": [
    {
     "data": {
      "text/plain": [
       "-1.3432788724924567"
      ]
     },
     "execution_count": 195,
     "metadata": {},
     "output_type": "execute_result"
    }
   ],
   "source": [
    "Output1"
   ]
  },
  {
   "cell_type": "code",
   "execution_count": 196,
   "metadata": {
    "collapsed": true
   },
   "outputs": [],
   "source": [
    "#Activation\n",
    "def sigmoid(n):\n",
    "    return 1/(1+np.exp(-n))"
   ]
  },
  {
   "cell_type": "code",
   "execution_count": 197,
   "metadata": {
    "collapsed": true
   },
   "outputs": [],
   "source": [
    "#Outputs from the hidden layer\n",
    "X11 = sigmoid(Output1)"
   ]
  },
  {
   "cell_type": "code",
   "execution_count": 198,
   "metadata": {
    "collapsed": true
   },
   "outputs": [],
   "source": [
    "X22 = sigmoid(sum(w2*data.X1+w4*data.X2))"
   ]
  },
  {
   "cell_type": "code",
   "execution_count": 199,
   "metadata": {
    "collapsed": true
   },
   "outputs": [],
   "source": [
    "target= sigmoid(w5*X11+w6*X22)"
   ]
  },
  {
   "cell_type": "code",
   "execution_count": 200,
   "metadata": {},
   "outputs": [
    {
     "data": {
      "text/plain": [
       "0.52611654234056671"
      ]
     },
     "execution_count": 200,
     "metadata": {},
     "output_type": "execute_result"
    }
   ],
   "source": [
    "target"
   ]
  },
  {
   "cell_type": "code",
   "execution_count": 213,
   "metadata": {},
   "outputs": [],
   "source": [
    "wh1=1\n",
    "wh2=2\n",
    "wh3=3\n",
    "wh4=2.5\n",
    "wh5=2\n",
    "wh6=1.5"
   ]
  },
  {
   "cell_type": "code",
   "execution_count": null,
   "metadata": {},
   "outputs": [],
   "source": []
  },
  {
   "cell_type": "raw",
   "metadata": {},
   "source": []
  },
  {
   "cell_type": "code",
   "execution_count": 145,
   "metadata": {},
   "outputs": [
    {
     "data": {
      "text/plain": [
       "-25.987856383496908"
      ]
     },
     "execution_count": 145,
     "metadata": {},
     "output_type": "execute_result"
    }
   ],
   "source": []
  },
  {
   "cell_type": "code",
   "execution_count": 146,
   "metadata": {
    "collapsed": true
   },
   "outputs": [],
   "source": []
  },
  {
   "cell_type": "code",
   "execution_count": 202,
   "metadata": {},
   "outputs": [],
   "source": [
    "def meansquarederr(wh1,wh2,wh3,wh4,wh5,wh6):\n",
    "    return ((target-(wh5*sigmoid(sum(wh1*data.X1+wh3*data.X2))+wh6*sigmoid(sum(wh2*data.X1+wh4*data.X2))))*(target-(wh5*sigmoid(sum(wh1*data.X1+wh3*data.X2))+wh6*sigmoid(sum(wh2*data.X1+wh4*data.X2)))))/2\n",
    "    "
   ]
  },
  {
   "cell_type": "code",
   "execution_count": 133,
   "metadata": {},
   "outputs": [
    {
     "data": {
      "text/plain": [
       "0.12508688127394099"
      ]
     },
     "execution_count": 133,
     "metadata": {},
     "output_type": "execute_result"
    }
   ],
   "source": [
    "meansquarederr(1,2,3,2.5,2,1.5)"
   ]
  },
  {
   "cell_type": "code",
   "execution_count": 225,
   "metadata": {
    "collapsed": true
   },
   "outputs": [],
   "source": [
    "Learning_Rate = 0.005\n",
    "Epsilon = 0.00001"
   ]
  },
  {
   "cell_type": "code",
   "execution_count": 226,
   "metadata": {
    "collapsed": true
   },
   "outputs": [],
   "source": [
    "def partialder_Wh1():\n",
    "    return (meansquarederr(wh1+Epsilon,wh2,wh3,wh4,wh5,wh6)-meansquarederr(wh1,wh2,wh3,wh4,wh5,wh6))/Epsilon"
   ]
  },
  {
   "cell_type": "code",
   "execution_count": 227,
   "metadata": {
    "collapsed": true
   },
   "outputs": [],
   "source": [
    "def partialder_Wh2():\n",
    "    return (meansquarederr(wh1,wh2+Epsilon,wh3,wh4,wh5,wh6)-meansquarederr(wh1,wh2,wh3,wh4,wh5,wh6))/Epsilon"
   ]
  },
  {
   "cell_type": "code",
   "execution_count": 228,
   "metadata": {
    "collapsed": true
   },
   "outputs": [],
   "source": [
    "def partialder_Wh3():\n",
    "    return (meansquarederr(wh1,wh2,wh3+Epsilon,wh4,wh5,wh6)-meansquarederr(wh1,wh2,wh3,wh4,wh5,wh6))/Epsilon"
   ]
  },
  {
   "cell_type": "code",
   "execution_count": 229,
   "metadata": {
    "collapsed": true
   },
   "outputs": [],
   "source": [
    "def partialder_Wh4():\n",
    "    return (meansquarederr(wh1,wh2,wh3,wh4+Epsilon,wh5,wh6)-meansquarederr(wh1,wh2,wh3,wh4,wh5,wh6))/Epsilon"
   ]
  },
  {
   "cell_type": "code",
   "execution_count": 230,
   "metadata": {
    "collapsed": true
   },
   "outputs": [],
   "source": [
    "def partialder_Wh5():\n",
    "    return (meansquarederr(wh1,wh2,wh3,wh4,wh5+Epsilon,wh6)-meansquarederr(wh1,wh2,wh3,wh4,wh5,wh6))/Epsilon"
   ]
  },
  {
   "cell_type": "code",
   "execution_count": 231,
   "metadata": {
    "collapsed": true
   },
   "outputs": [],
   "source": [
    "def partialder_Wh6():\n",
    "    return (meansquarederr(wh1,wh2,wh3,wh4,wh5,wh6+Epsilon)-meansquarederr(wh1,wh2,wh3,wh4,wh5,wh6))/Epsilon"
   ]
  },
  {
   "cell_type": "code",
   "execution_count": 232,
   "metadata": {},
   "outputs": [
    {
     "data": {
      "text/plain": [
       "-0.0039213588043374159"
      ]
     },
     "execution_count": 232,
     "metadata": {},
     "output_type": "execute_result"
    }
   ],
   "source": [
    "partialder_Wh1()"
   ]
  },
  {
   "cell_type": "code",
   "execution_count": 233,
   "metadata": {},
   "outputs": [
    {
     "data": {
      "text/plain": [
       "-0.005512105183402837"
      ]
     },
     "execution_count": 233,
     "metadata": {},
     "output_type": "execute_result"
    }
   ],
   "source": [
    "partialder_Wh2()"
   ]
  },
  {
   "cell_type": "code",
   "execution_count": 240,
   "metadata": {},
   "outputs": [
    {
     "name": "stdout",
     "output_type": "stream",
     "text": [
      "0.400542810947 0.500078966396 0.197854973738 0.349687961374 0.450444473031 0.250096169764\n",
      "0.0878198627651\n"
     ]
    }
   ],
   "source": [
    "count = 0\n",
    "err = meansquarederr(wh1,wh2,wh3,wh4,wh5,wh6)\n",
    "while(True):\n",
    "    wh1=w1-(Learning_Rate)*partialder_Wh1()\n",
    "    wh2=w2-(Learning_Rate)*partialder_Wh2()\n",
    "    wh3=w3-(Learning_Rate)*partialder_Wh3()\n",
    "    wh4=w4-(Learning_Rate)*partialder_Wh4()\n",
    "    wh5=w5-(Learning_Rate)*partialder_Wh5()\n",
    "    wh6=w6-(Learning_Rate)*partialder_Wh6()\n",
    "    print(wh1,wh2,wh3,wh4,wh5,wh6)\n",
    "    count=count+1\n",
    "    print(err)\n",
    "    if (err-meansquarederr(wh1,wh2,wh3,wh4,wh5,wh6)<=0.0000001):\n",
    "        break\n",
    "    err = meansquarederr(wh1,wh2,wh3,wh4,wh5,wh6)"
   ]
  },
  {
   "cell_type": "code",
   "execution_count": null,
   "metadata": {
    "collapsed": true
   },
   "outputs": [],
   "source": []
  }
 ],
 "metadata": {
  "kernelspec": {
   "display_name": "Python 3",
   "language": "python",
   "name": "python3"
  },
  "language_info": {
   "codemirror_mode": {
    "name": "ipython",
    "version": 3
   },
   "file_extension": ".py",
   "mimetype": "text/x-python",
   "name": "python",
   "nbconvert_exporter": "python",
   "pygments_lexer": "ipython3",
   "version": "3.6.1"
  }
 },
 "nbformat": 4,
 "nbformat_minor": 2
}
